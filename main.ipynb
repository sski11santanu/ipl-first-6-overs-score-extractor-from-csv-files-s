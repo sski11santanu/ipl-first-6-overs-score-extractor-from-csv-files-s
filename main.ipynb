{
 "cells": [
  {
   "cell_type": "code",
   "execution_count": 1,
   "id": "048f8c50-b808-47e6-99a1-fcf275827b1e",
   "metadata": {},
   "outputs": [],
   "source": [
    "import pandas as pd\n",
    "import os"
   ]
  },
  {
   "cell_type": "code",
   "execution_count": 2,
   "id": "368530c2-224e-45ad-bd78-fb9956891cce",
   "metadata": {},
   "outputs": [],
   "source": [
    "filesDir = \"ipl_csv2/\""
   ]
  },
  {
   "cell_type": "code",
   "execution_count": 3,
   "id": "9fe3892d-4f45-4cbc-a0b2-79b67a7178a6",
   "metadata": {},
   "outputs": [],
   "source": [
    "# Get the list of names of the CSV files containing corresponding match's data\n",
    "files = os.listdir(filesDir)\n",
    "files = list(map(lambda x: filesDir + x, list(filter(lambda x: x.split('.')[0].isdigit(), files))))"
   ]
  },
  {
   "cell_type": "code",
   "execution_count": 4,
   "id": "2375b0d9-2038-430e-b77a-5fae4a07d94b",
   "metadata": {},
   "outputs": [],
   "source": [
    "columns = [\"match_id\", \"venue\", \"innings\", \"batting_team\", \"bowling_team\", \"runs\"]\n",
    "# files"
   ]
  },
  {
   "cell_type": "code",
   "execution_count": 5,
   "id": "d7abb440-4469-488b-bc6b-548b195889ce",
   "metadata": {},
   "outputs": [],
   "source": [
    "# len(files)"
   ]
  },
  {
   "cell_type": "code",
   "execution_count": 6,
   "id": "7beb6714-9870-4b5d-9bed-17a4cfbcd12e",
   "metadata": {},
   "outputs": [],
   "source": [
    "# Declare a dictionary to map team names to their respective regions\n",
    "teams = {\"Mumbai Indians\": \"Mumbai\",\n",
    "         \"Kolkata Knight Riders\": \"Kolkata\",\n",
    "         \"Chennai Super Kings\": \"Chennai\",\n",
    "         \"Kings XI Punjab\": \"Punjab\",\n",
    "         \"Punjab Kings\": \"Punjab\",\n",
    "         \"Rising Pune Supergiant\": \"Pune\",\n",
    "         \"Rising Pune Supergiants\": \"Pune\",\n",
    "         \"Pune Warriors\": \"Pune\",\n",
    "         \"Delhi Daredevils\": \"Delhi\",\n",
    "         \"Delhi Capitals\": \"Delhi\",\n",
    "         \"Gujarat Lions\": \"Gujarat\",\n",
    "         \"Deccan Chargers\": \"Hyderabad\",\n",
    "         \"Sunrisers Hyderabad\": \"Hyderabad\",\n",
    "         \"Royal Challengers Bangalore\": \"Bangalore\",\n",
    "         \"Rajasthan Royals\": \"Rajasthan\",\n",
    "         \"Kochi Tuskers Kerala\": \"Kerala\"}"
   ]
  },
  {
   "cell_type": "code",
   "execution_count": 7,
   "id": "cbbaac98-798e-464f-b3dd-d969d1bae223",
   "metadata": {},
   "outputs": [],
   "source": [
    "# Declare a function which will process each CSV file/dataset to obtain the required data for both the innings\n",
    "# of the corresponding match\n",
    "# and return the final dataset\n",
    "def getSixOversData():\n",
    "    main_df = pd.DataFrame(columns = columns + [\"balls\"])\n",
    "    for file in files:\n",
    "        df = pd.read_csv(file)\n",
    "        df[\"runs\"] = df[\"runs_off_bat\"] + df[\"extras\"]\n",
    "        df = df[columns + [\"ball\"]]\n",
    "        \n",
    "        innings1 = getInningsData(df, 1)\n",
    "        innings2 = getInningsData(df, 2)\n",
    "        main_df = main_df.append(innings1, ignore_index = True)\n",
    "        main_df = main_df.append(innings2, ignore_index = True)\n",
    "        \n",
    "    return main_df"
   ]
  },
  {
   "cell_type": "code",
   "execution_count": 8,
   "id": "846df3b5-b2a1-460c-9f24-11590779c862",
   "metadata": {},
   "outputs": [],
   "source": [
    "# The following function takes the match dataset and the innings number\n",
    "# and returns a dataframe of one row with the required summary data for that innings\n",
    "def getInningsData(df, innings):\n",
    "#     print(df.dtypes)\n",
    "#     print(df[\"innings\"] == innings)\n",
    "    innings_df = df.loc[df[\"innings\"] == innings]\n",
    "#     print(innings_df.empty)\n",
    "    if innings_df.empty:\n",
    "        return None\n",
    "    else:\n",
    "        inningsData = innings_df.loc[innings_df.index[0], innings_df.columns[:-2]].values.tolist()\n",
    "        inningsData[1] = inningsData[1].split(',')[0].replace('.', ' ').strip()\n",
    "        inningsData[3] = teams[inningsData[3]]\n",
    "        inningsData[4] = teams[inningsData[4]]\n",
    "#         print(inningsData)\n",
    "#         print(type(df.loc[df[\"ball\"] < 6.1, \"runs\"].sum()))\n",
    "        totalRuns = innings_df.loc[innings_df[\"ball\"] < 6.1, \"runs\"].sum()\n",
    "        totalBalls = innings_df.loc[innings_df[\"ball\"] < 6.1, \"ball\"].count()\n",
    "        inningsData += [totalRuns, totalBalls]\n",
    "#         print(inningsData)\n",
    "        return pd.DataFrame([inningsData], columns = columns + [\"balls\"])"
   ]
  },
  {
   "cell_type": "code",
   "execution_count": 9,
   "id": "de779b93-8ddf-44ff-8056-ada8ff085cce",
   "metadata": {},
   "outputs": [],
   "source": [
    "# Create the required summary dataset for creating our model\n",
    "final_df = getSixOversData()"
   ]
  },
  {
   "cell_type": "code",
   "execution_count": 10,
   "id": "02af8dd6-7fab-4e09-9ea3-c8ea67557bdf",
   "metadata": {},
   "outputs": [],
   "source": [
    "# print(final_df[\"venue\"].values.tolist())"
   ]
  },
  {
   "cell_type": "code",
   "execution_count": 12,
   "id": "ce03a5bb-a6c3-4b92-b13c-13c656080aaa",
   "metadata": {},
   "outputs": [],
   "source": [
    "# Create a CSV file for the final dataframe\n",
    "final_df.to_csv(\"six_overs_data.csv\", index = False)"
   ]
  },
  {
   "cell_type": "code",
   "execution_count": null,
   "id": "a67e868d-c7b1-46d4-b86d-a3223f9c11cc",
   "metadata": {},
   "outputs": [],
   "source": []
  }
 ],
 "metadata": {
  "kernelspec": {
   "display_name": "Python 3",
   "language": "python",
   "name": "python3"
  },
  "language_info": {
   "codemirror_mode": {
    "name": "ipython",
    "version": 3
   },
   "file_extension": ".py",
   "mimetype": "text/x-python",
   "name": "python",
   "nbconvert_exporter": "python",
   "pygments_lexer": "ipython3",
   "version": "3.7.0"
  }
 },
 "nbformat": 4,
 "nbformat_minor": 5
}
